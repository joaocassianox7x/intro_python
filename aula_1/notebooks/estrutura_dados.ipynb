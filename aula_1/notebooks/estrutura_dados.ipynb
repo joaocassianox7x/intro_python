{
 "cells": [
  {
   "cell_type": "code",
   "execution_count": 18,
   "metadata": {},
   "outputs": [],
   "source": [
    "import random"
   ]
  },
  {
   "cell_type": "code",
   "execution_count": 53,
   "metadata": {},
   "outputs": [
    {
     "name": "stdout",
     "output_type": "stream",
     "text": [
      "Numeros pares média : 4.983\n",
      "Numeros impares média : 5.017\n",
      "Tamanho médio : 10.0\n"
     ]
    }
   ],
   "source": [
    "numero_listas = 1000\n",
    "lista_das_listas = []\n",
    "\n",
    "for n_lista in range(numero_listas):\n",
    "    contador = 0\n",
    "    lista_atual = []\n",
    "    while contador < 10:\n",
    "        lista_atual.append(random.randint(0,9))\n",
    "        contador += 1\n",
    "    lista_das_listas.append(lista_atual)\n",
    "\n",
    "\n",
    "numeros_pares = []\n",
    "numeros_impares = []\n",
    "tamanhos = []\n",
    "\n",
    "for lista in lista_das_listas:\n",
    "    npar, nimpar, tamanho = count_numero_pares(lista)\n",
    "\n",
    "    numeros_pares.append(npar)\n",
    "    numeros_impares.append(nimpar)\n",
    "    tamanhos.append(tamanho)\n",
    "\n",
    "\n",
    "print(f\"Numeros pares média : {sum(numeros_pares) / len(numeros_pares)}\")\n",
    "print(f\"Numeros impares média : {sum(numeros_impares) / len(numeros_impares)}\")\n",
    "print(f\"Tamanho médio : {sum(tamanhos) / len(tamanhos)}\")\n",
    "\n",
    "    "
   ]
  },
  {
   "cell_type": "code",
   "execution_count": 42,
   "metadata": {},
   "outputs": [
    {
     "data": {
      "text/plain": [
       "66"
      ]
     },
     "execution_count": 42,
     "metadata": {},
     "output_type": "execute_result"
    }
   ],
   "source": [
    "sum([1,2,3,4,56])"
   ]
  },
  {
   "cell_type": "code",
   "execution_count": 25,
   "metadata": {},
   "outputs": [],
   "source": [
    "def count_numero_pares(lista):\n",
    "    vezes_numero_par = 0\n",
    "    vezes_numero_impar = 0\n",
    "\n",
    "    for elemento in lista:\n",
    "        if (elemento % 2) == 0:\n",
    "            vezes_numero_par = vezes_numero_par + 1\n",
    "        else:\n",
    "            vezes_numero_impar += 1 #vezes_numero_impar =vezes_numero_impar +1\n",
    "\n",
    "    return vezes_numero_par, vezes_numero_impar, len(lista)"
   ]
  },
  {
   "cell_type": "code",
   "execution_count": 26,
   "metadata": {},
   "outputs": [],
   "source": [
    "retornos = count_numero_pares(peixe)"
   ]
  },
  {
   "cell_type": "code",
   "execution_count": 27,
   "metadata": {},
   "outputs": [
    {
     "data": {
      "text/plain": [
       "(6, 12, 18)"
      ]
     },
     "execution_count": 27,
     "metadata": {},
     "output_type": "execute_result"
    }
   ],
   "source": [
    "retornos"
   ]
  },
  {
   "cell_type": "code",
   "execution_count": null,
   "metadata": {},
   "outputs": [],
   "source": []
  }
 ],
 "metadata": {
  "kernelspec": {
   "display_name": "base",
   "language": "python",
   "name": "python3"
  },
  "language_info": {
   "codemirror_mode": {
    "name": "ipython",
    "version": 3
   },
   "file_extension": ".py",
   "mimetype": "text/x-python",
   "name": "python",
   "nbconvert_exporter": "python",
   "pygments_lexer": "ipython3",
   "version": "3.12.4"
  }
 },
 "nbformat": 4,
 "nbformat_minor": 2
}
